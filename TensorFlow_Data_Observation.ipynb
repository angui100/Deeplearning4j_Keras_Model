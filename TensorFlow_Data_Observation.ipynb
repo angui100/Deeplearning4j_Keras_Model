{
  "nbformat": 4,
  "nbformat_minor": 0,
  "metadata": {
    "colab": {
      "name": "TensorFlow_Data_Observation.ipynb",
      "provenance": [],
      "authorship_tag": "ABX9TyMS+0e/670N9eeDjVjyrkwm",
      "include_colab_link": true
    },
    "kernelspec": {
      "name": "python3",
      "display_name": "Python 3"
    }
  },
  "cells": [
    {
      "cell_type": "markdown",
      "metadata": {
        "id": "view-in-github",
        "colab_type": "text"
      },
      "source": [
        "<a href=\"https://colab.research.google.com/github/angui100/Deeplearning4j_Keras_Model/blob/master/TensorFlow_Data_Observation.ipynb\" target=\"_parent\"><img src=\"https://colab.research.google.com/assets/colab-badge.svg\" alt=\"Open In Colab\"/></a>"
      ]
    },
    {
      "cell_type": "markdown",
      "metadata": {
        "id": "TTc4GK-LitKI",
        "colab_type": "text"
      },
      "source": [
        "### Set up TensorFflow 2.0 working environment"
      ]
    },
    {
      "cell_type": "code",
      "metadata": {
        "id": "RI_H7tEaimNo",
        "colab_type": "code",
        "colab": {}
      },
      "source": [
        "try:\n",
        "  %tensorflow_version 2.x\n",
        "except Exception:\n",
        "  pass\n",
        "\n",
        "import tensorflow as tf"
      ],
      "execution_count": 0,
      "outputs": []
    },
    {
      "cell_type": "code",
      "metadata": {
        "id": "Tbfzy2lAjdMl",
        "colab_type": "code",
        "outputId": "83a65a10-d01e-4b4a-9949-235ac023a937",
        "colab": {
          "base_uri": "https://localhost:8080/",
          "height": 34
        }
      },
      "source": [
        "print(tf.__version__)"
      ],
      "execution_count": 0,
      "outputs": [
        {
          "output_type": "stream",
          "text": [
            "2.1.0\n"
          ],
          "name": "stdout"
        }
      ]
    },
    {
      "cell_type": "code",
      "metadata": {
        "id": "HwE5zSgOjorU",
        "colab_type": "code",
        "colab": {}
      },
      "source": [
        "import numpy as np"
      ],
      "execution_count": 0,
      "outputs": []
    },
    {
      "cell_type": "markdown",
      "metadata": {
        "id": "UPajGBNEjvLM",
        "colab_type": "text"
      },
      "source": [
        "### Play with tensorflow data<br/>\n",
        "A TensorFlow variable is the best way to represent shared, persistent state manipulated by your program.\n",
        "\n",
        "Variables are manipulated via the tf.Variable class. A tf.Variable represents a tensor whose value can be changed by running ops on it. Specific ops allow you to read and modify the values of this tensor. Higher level libraries like tf.keras use tf.Variable to store model parameters. "
      ]
    },
    {
      "cell_type": "code",
      "metadata": {
        "id": "bdLsPrezjsao",
        "colab_type": "code",
        "outputId": "67fbab4e-f0ad-40ca-9092-aeda20b3d31d",
        "colab": {
          "base_uri": "https://localhost:8080/",
          "height": 34
        }
      },
      "source": [
        "#Defining a constant \n",
        "tensor_20 = tf.constant([[23, 4], [32, 51]])\n",
        "tensor_20.shape"
      ],
      "execution_count": 0,
      "outputs": [
        {
          "output_type": "execute_result",
          "data": {
            "text/plain": [
              "TensorShape([2, 2])"
            ]
          },
          "metadata": {
            "tags": []
          },
          "execution_count": 35
        }
      ]
    },
    {
      "cell_type": "code",
      "metadata": {
        "id": "EPqLbIhjkMJt",
        "colab_type": "code",
        "outputId": "0da8465e-04f8-4a37-8b1e-9f198a19cf46",
        "colab": {
          "base_uri": "https://localhost:8080/",
          "height": 67
        }
      },
      "source": [
        "tensor_20"
      ],
      "execution_count": 0,
      "outputs": [
        {
          "output_type": "execute_result",
          "data": {
            "text/plain": [
              "<tf.Tensor: shape=(2, 2), dtype=int32, numpy=\n",
              "array([[23,  4],\n",
              "       [32, 51]], dtype=int32)>"
            ]
          },
          "metadata": {
            "tags": []
          },
          "execution_count": 36
        }
      ]
    },
    {
      "cell_type": "code",
      "metadata": {
        "id": "QWemzc5ckXzL",
        "colab_type": "code",
        "outputId": "add9ada8-27de-441b-f285-75e0ad09ef69",
        "colab": {
          "base_uri": "https://localhost:8080/",
          "height": 50
        }
      },
      "source": [
        "tensor_20.numpy()"
      ],
      "execution_count": 0,
      "outputs": [
        {
          "output_type": "execute_result",
          "data": {
            "text/plain": [
              "array([[23,  4],\n",
              "       [32, 51]], dtype=int32)"
            ]
          },
          "metadata": {
            "tags": []
          },
          "execution_count": 37
        }
      ]
    },
    {
      "cell_type": "code",
      "metadata": {
        "id": "aCv8tWoOkg0X",
        "colab_type": "code",
        "outputId": "4814b029-acb8-4ca1-d8e9-2eae284340f9",
        "colab": {
          "base_uri": "https://localhost:8080/",
          "height": 34
        }
      },
      "source": [
        "tensor_20.dtype"
      ],
      "execution_count": 0,
      "outputs": [
        {
          "output_type": "execute_result",
          "data": {
            "text/plain": [
              "tf.int32"
            ]
          },
          "metadata": {
            "tags": []
          },
          "execution_count": 38
        }
      ]
    },
    {
      "cell_type": "markdown",
      "metadata": {
        "id": "r6BqWb3ukylM",
        "colab_type": "text"
      },
      "source": [
        "**Assign numpy array to tensor variable**"
      ]
    },
    {
      "cell_type": "code",
      "metadata": {
        "id": "Ff8u8gNVk4qk",
        "colab_type": "code",
        "outputId": "9a30dbdb-c711-4d4f-a170-3c6412207173",
        "colab": {
          "base_uri": "https://localhost:8080/",
          "height": 67
        }
      },
      "source": [
        "#Convert numpy array to tensor\n",
        "numpy_tensor = np.array([[23, 4], [32, 51]])\n",
        "tensor_from_numpy = tf.constant( numpy_tensor )\n",
        "tensor_from_numpy"
      ],
      "execution_count": 0,
      "outputs": [
        {
          "output_type": "execute_result",
          "data": {
            "text/plain": [
              "<tf.Tensor: shape=(2, 2), dtype=int64, numpy=\n",
              "array([[23,  4],\n",
              "       [32, 51]])>"
            ]
          },
          "metadata": {
            "tags": []
          },
          "execution_count": 39
        }
      ]
    },
    {
      "cell_type": "code",
      "metadata": {
        "id": "U9fbyq7klaKe",
        "colab_type": "code",
        "outputId": "84fcb53b-5870-41e5-8cd2-e6bf0808be0c",
        "colab": {
          "base_uri": "https://localhost:8080/",
          "height": 50
        }
      },
      "source": [
        "#Convert Tensorflow tensor to numpy array\n",
        "numpy_from_tensor = np.array( tensor_from_numpy )\n",
        "numpy_from_tensor"
      ],
      "execution_count": 0,
      "outputs": [
        {
          "output_type": "execute_result",
          "data": {
            "text/plain": [
              "array([[23,  4],\n",
              "       [32, 51]])"
            ]
          },
          "metadata": {
            "tags": []
          },
          "execution_count": 40
        }
      ]
    },
    {
      "cell_type": "markdown",
      "metadata": {
        "id": "ngrlToMWmMpq",
        "colab_type": "text"
      },
      "source": [
        "### Tensor variable operations"
      ]
    },
    {
      "cell_type": "code",
      "metadata": {
        "id": "sgkQ6i5yl4lM",
        "colab_type": "code",
        "outputId": "dd03dfa6-a4b7-4c08-c0bb-0b6de504a282",
        "colab": {
          "base_uri": "https://localhost:8080/",
          "height": 67
        }
      },
      "source": [
        "tf_variable_1 = tf.Variable([[1., 2., 3.], [4., 5., 6.]])\n",
        "tf_variable_1"
      ],
      "execution_count": 0,
      "outputs": [
        {
          "output_type": "execute_result",
          "data": {
            "text/plain": [
              "<tf.Variable 'Variable:0' shape=(2, 3) dtype=float32, numpy=\n",
              "array([[1., 2., 3.],\n",
              "       [4., 5., 6.]], dtype=float32)>"
            ]
          },
          "metadata": {
            "tags": []
          },
          "execution_count": 41
        }
      ]
    },
    {
      "cell_type": "code",
      "metadata": {
        "id": "qvPx8BACmvwY",
        "colab_type": "code",
        "outputId": "2083b608-3281-4cd4-e80f-f4945a456b3d",
        "colab": {
          "base_uri": "https://localhost:8080/",
          "height": 67
        }
      },
      "source": [
        "#change variable value for particular element in a tensor variable\n",
        "tf_variable_1[0, 2].assign(100)"
      ],
      "execution_count": 0,
      "outputs": [
        {
          "output_type": "execute_result",
          "data": {
            "text/plain": [
              "<tf.Variable 'UnreadVariable' shape=(2, 3) dtype=float32, numpy=\n",
              "array([[  1.,   2., 100.],\n",
              "       [  4.,   5.,   6.]], dtype=float32)>"
            ]
          },
          "metadata": {
            "tags": []
          },
          "execution_count": 42
        }
      ]
    },
    {
      "cell_type": "code",
      "metadata": {
        "id": "ZbrdQWzCnNYC",
        "colab_type": "code",
        "cellView": "form",
        "colab": {}
      },
      "source": [
        "#@title\n",
        "\n",
        "my_variable = tf.Variable(tf.zeros([1, 2, 3]))"
      ],
      "execution_count": 0,
      "outputs": []
    },
    {
      "cell_type": "code",
      "metadata": {
        "id": "YUJ7JgM7ogco",
        "colab_type": "code",
        "cellView": "form",
        "colab": {}
      },
      "source": [
        "#@title\n",
        "my_variable"
      ],
      "execution_count": 0,
      "outputs": []
    },
    {
      "cell_type": "code",
      "metadata": {
        "id": "EatEHL7uoio_",
        "colab_type": "code",
        "outputId": "6defcb84-0d16-42f1-8675-a5a2c3519fb1",
        "colab": {
          "base_uri": "https://localhost:8080/",
          "height": 67
        }
      },
      "source": [
        "#Addition between a scalar and a tensor\n",
        "tensor = tf.constant([[1, 2], [3, 4]])\n",
        "tensor + 2"
      ],
      "execution_count": 0,
      "outputs": [
        {
          "output_type": "execute_result",
          "data": {
            "text/plain": [
              "<tf.Tensor: shape=(2, 2), dtype=int32, numpy=\n",
              "array([[3, 4],\n",
              "       [5, 6]], dtype=int32)>"
            ]
          },
          "metadata": {
            "tags": []
          },
          "execution_count": 43
        }
      ]
    },
    {
      "cell_type": "code",
      "metadata": {
        "id": "HwlhbDAnvz16",
        "colab_type": "code",
        "colab": {}
      },
      "source": [
        "#Multiplication between a scalar and a tensor\n",
        "tensor * 5"
      ],
      "execution_count": 0,
      "outputs": []
    },
    {
      "cell_type": "code",
      "metadata": {
        "id": "sxZJss5mv-9X",
        "colab_type": "code",
        "colab": {}
      },
      "source": [
        "#Applying Numpy functions on TensorFlow tensor\n",
        "tensor_changed = np.square(tensor)\n",
        "#print(tensor_changed)"
      ],
      "execution_count": 0,
      "outputs": []
    },
    {
      "cell_type": "code",
      "metadata": {
        "id": "E63XqqoGAjiD",
        "colab_type": "code",
        "colab": {}
      },
      "source": [
        "tensor_changed"
      ],
      "execution_count": 0,
      "outputs": []
    },
    {
      "cell_type": "code",
      "metadata": {
        "id": "vFG3fR9TwO9N",
        "colab_type": "code",
        "colab": {}
      },
      "source": [
        "np.sqrt( tensor )"
      ],
      "execution_count": 0,
      "outputs": []
    },
    {
      "cell_type": "markdown",
      "metadata": {
        "id": "uj82sKDlwaqV",
        "colab_type": "text"
      },
      "source": [
        "### Dot product between two tensors"
      ]
    },
    {
      "cell_type": "code",
      "metadata": {
        "id": "F4Um2WRjwo4U",
        "colab_type": "code",
        "outputId": "de2da033-d1fd-4e83-e086-199edcb55da2",
        "colab": {
          "base_uri": "https://localhost:8080/",
          "height": 67
        }
      },
      "source": [
        "tensor_20"
      ],
      "execution_count": 0,
      "outputs": [
        {
          "output_type": "execute_result",
          "data": {
            "text/plain": [
              "<tf.Tensor: shape=(2, 2), dtype=int32, numpy=\n",
              "array([[23,  4],\n",
              "       [32, 51]], dtype=int32)>"
            ]
          },
          "metadata": {
            "tags": []
          },
          "execution_count": 50
        }
      ]
    },
    {
      "cell_type": "code",
      "metadata": {
        "id": "zde4uRNLwXjA",
        "colab_type": "code",
        "outputId": "f8ec78b1-c47e-478f-dad9-3963045b6937",
        "colab": {
          "base_uri": "https://localhost:8080/",
          "height": 50
        }
      },
      "source": [
        "np.dot(tensor, tensor_20)"
      ],
      "execution_count": 0,
      "outputs": [
        {
          "output_type": "execute_result",
          "data": {
            "text/plain": [
              "array([[ 87, 106],\n",
              "       [197, 216]], dtype=int32)"
            ]
          },
          "metadata": {
            "tags": []
          },
          "execution_count": 51
        }
      ]
    },
    {
      "cell_type": "markdown",
      "metadata": {
        "id": "qu-oIrfWw2ik",
        "colab_type": "text"
      },
      "source": [
        "### String functions "
      ]
    },
    {
      "cell_type": "code",
      "metadata": {
        "id": "SIQ91GLcwt6v",
        "colab_type": "code",
        "colab": {}
      },
      "source": [
        "tf_string = tf.constant(\"TensorFlow\")"
      ],
      "execution_count": 0,
      "outputs": []
    },
    {
      "cell_type": "code",
      "metadata": {
        "id": "BLAyS13OxFzv",
        "colab_type": "code",
        "outputId": "7e973a28-7795-46fd-985e-6c3db0898fa1",
        "colab": {
          "base_uri": "https://localhost:8080/",
          "height": 34
        }
      },
      "source": [
        "tf_string"
      ],
      "execution_count": 0,
      "outputs": [
        {
          "output_type": "execute_result",
          "data": {
            "text/plain": [
              "<tf.Tensor: shape=(), dtype=string, numpy=b'TensorFlow'>"
            ]
          },
          "metadata": {
            "tags": []
          },
          "execution_count": 54
        }
      ]
    },
    {
      "cell_type": "code",
      "metadata": {
        "id": "1KnZUOy-xHj_",
        "colab_type": "code",
        "outputId": "735396e6-00a4-41bd-9f31-8be336a9146a",
        "colab": {
          "base_uri": "https://localhost:8080/",
          "height": 34
        }
      },
      "source": [
        "tf.strings.length(tf_string)"
      ],
      "execution_count": 0,
      "outputs": [
        {
          "output_type": "execute_result",
          "data": {
            "text/plain": [
              "<tf.Tensor: shape=(), dtype=int32, numpy=10>"
            ]
          },
          "metadata": {
            "tags": []
          },
          "execution_count": 55
        }
      ]
    },
    {
      "cell_type": "code",
      "metadata": {
        "id": "G-OUnV27yAiF",
        "colab_type": "code",
        "outputId": "45677501-da90-46df-82bc-5bc7193222e6",
        "colab": {
          "base_uri": "https://localhost:8080/",
          "height": 34
        }
      },
      "source": [
        "tf.strings.unicode_decode( tf_string, \"UTF8\")"
      ],
      "execution_count": 0,
      "outputs": [
        {
          "output_type": "execute_result",
          "data": {
            "text/plain": [
              "<tf.Tensor: shape=(10,), dtype=int32, numpy=array([ 84, 101, 110, 115, 111, 114,  70, 108, 111, 119], dtype=int32)>"
            ]
          },
          "metadata": {
            "tags": []
          },
          "execution_count": 56
        }
      ]
    },
    {
      "cell_type": "markdown",
      "metadata": {
        "id": "DrrJTdXbyarC",
        "colab_type": "text"
      },
      "source": [
        "### Storing arrays of strings"
      ]
    },
    {
      "cell_type": "code",
      "metadata": {
        "id": "KYQjxOp9yVxo",
        "colab_type": "code",
        "colab": {}
      },
      "source": [
        "tf_string_array = tf.constant([\"TensorFlow\", \"Deep Learning\", \"AI\"])"
      ],
      "execution_count": 0,
      "outputs": []
    },
    {
      "cell_type": "code",
      "metadata": {
        "id": "SEh8hAIaysSB",
        "colab_type": "code",
        "outputId": "9e1f1094-4028-4b7f-bce5-e4af794c7fac",
        "colab": {
          "base_uri": "https://localhost:8080/",
          "height": 67
        }
      },
      "source": [
        "#iterating the string array\n",
        "for string in tf_string_array:\n",
        "  print( string )"
      ],
      "execution_count": 0,
      "outputs": [
        {
          "output_type": "stream",
          "text": [
            "tf.Tensor(b'TensorFlow', shape=(), dtype=string)\n",
            "tf.Tensor(b'Deep Learning', shape=(), dtype=string)\n",
            "tf.Tensor(b'AI', shape=(), dtype=string)\n"
          ],
          "name": "stdout"
        }
      ]
    },
    {
      "cell_type": "code",
      "metadata": {
        "id": "kxsQct7my8ja",
        "colab_type": "code",
        "colab": {}
      },
      "source": [
        ""
      ],
      "execution_count": 0,
      "outputs": []
    }
  ]
}